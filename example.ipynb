{
 "cells": [
  {
   "cell_type": "code",
   "execution_count": 1,
   "metadata": {},
   "outputs": [],
   "source": [
    "from Detector_Based_Classifier import *"
   ]
  },
  {
   "cell_type": "code",
   "execution_count": 2,
   "metadata": {},
   "outputs": [],
   "source": [
    "cell_sheetname = 'T_sorafenib_glio'\n",
    "patients_sheetname = 'V_renal_tissue_based'\n",
    "\n",
    "X_cell_lines = pd.read_excel('Supplementary_table_1.xlsx',\n",
    "                             sheet_name=cell_sheetname).drop('Score', axis=1).values\n",
    "X_patients = pd.read_excel('Supplementary_table_2.xlsx',\n",
    "                           sheet_name=patients_sheetname).drop('Score', axis=1).values\n",
    "y_cell_lines = pd.read_excel('Supplementary_table_1.xlsx',\n",
    "                             sheet_name=cell_sheetname)['Score'].values\n",
    "y_patients = pd.read_excel('Supplementary_table_2.xlsx',\n",
    "                           sheet_name=patients_sheetname)['Score'].values"
   ]
  },
  {
   "cell_type": "code",
   "execution_count": 3,
   "metadata": {},
   "outputs": [
    {
     "name": "stdout",
     "output_type": "stream",
     "text": [
      "ROC AUC on renal carcinoma dataset = 0.86\n"
     ]
    }
   ],
   "source": [
    "roc_auc = evaluate_auc(X_patients, y_patients, X_cell_lines, y_cell_lines)\n",
    "print(f'ROC AUC on renal carcinoma dataset = {roc_auc:.2}')"
   ]
  }
 ],
 "metadata": {
  "kernelspec": {
   "display_name": "Python 3",
   "language": "python",
   "name": "python3"
  },
  "language_info": {
   "codemirror_mode": {
    "name": "ipython",
    "version": 3
   },
   "file_extension": ".py",
   "mimetype": "text/x-python",
   "name": "python",
   "nbconvert_exporter": "python",
   "pygments_lexer": "ipython3",
   "version": "3.6.4"
  }
 },
 "nbformat": 4,
 "nbformat_minor": 2
}
