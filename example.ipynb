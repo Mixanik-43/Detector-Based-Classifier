{
 "cells": [
  {
   "cell_type": "code",
   "execution_count": 1,
   "metadata": {},
   "outputs": [
    {
     "ename": "NameError",
     "evalue": "name 'pd' is not defined",
     "output_type": "error",
     "traceback": [
      "\u001b[0;31m---------------------------------------------------------------------------\u001b[0m",
      "\u001b[0;31mNameError\u001b[0m                                 Traceback (most recent call last)",
      "\u001b[0;32m<ipython-input-1-4db9c5c17700>\u001b[0m in \u001b[0;36m<module>\u001b[0;34m()\u001b[0m\n\u001b[1;32m      2\u001b[0m \u001b[0mpatients_sheetname\u001b[0m \u001b[0;34m=\u001b[0m \u001b[0;34m'V_renal_tissue_based'\u001b[0m\u001b[0;34m\u001b[0m\u001b[0m\n\u001b[1;32m      3\u001b[0m \u001b[0;34m\u001b[0m\u001b[0m\n\u001b[0;32m----> 4\u001b[0;31m X_cell_lines = pd.read_excel('Supplementary_table_1.xlsx',\n\u001b[0m\u001b[1;32m      5\u001b[0m                              sheetname=cell_sheetname).drop('Score', axis=1).values\n\u001b[1;32m      6\u001b[0m X_patients = pd.read_excel('Supplementary_table_2.xlsx',\n",
      "\u001b[0;31mNameError\u001b[0m: name 'pd' is not defined"
     ]
    }
   ],
   "source": [
    "cell_sheetname = 'T_sorafenib_glio'\n",
    "patients_sheetname = 'V_renal_tissue_based'\n",
    "\n",
    "X_cell_lines = pd.read_excel('Supplementary_table_1.xlsx',\n",
    "                             sheetname=cell_sheetname).drop('Score', axis=1).values\n",
    "X_patients = pd.read_excel('Supplementary_table_2.xlsx',\n",
    "                           sheetname=patients_sheetname).drop('Score', axis=1).values\n",
    "y_cell_lines = pd.read_excel('Supplementary_table_1.xlsx',\n",
    "                             sheetname=cell_sheetname)['Score'].values\n",
    "y_patients = pd.read_excel('Supplementary_table_2.xlsx',\n",
    "                           sheetname=patients_sheetname)['Score'].values"
   ]
  },
  {
   "cell_type": "code",
   "execution_count": null,
   "metadata": {},
   "outputs": [],
   "source": [
    "roc_auc = evaluate_auc(X_patients, y_patients, X_cell_lines, y_cell_lines)\n",
    "print(f'ROC AUC on renal carcinoma = {roc_auc:.2}')"
   ]
  }
 ],
 "metadata": {
  "kernelspec": {
   "display_name": "Python 3",
   "language": "python",
   "name": "python3"
  },
  "language_info": {
   "codemirror_mode": {
    "name": "ipython",
    "version": 3
   },
   "file_extension": ".py",
   "mimetype": "text/x-python",
   "name": "python",
   "nbconvert_exporter": "python",
   "pygments_lexer": "ipython3",
   "version": "3.6.4"
  }
 },
 "nbformat": 4,
 "nbformat_minor": 2
}
